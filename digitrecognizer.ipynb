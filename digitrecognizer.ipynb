{
 "cells": [
  {
   "cell_type": "code",
   "execution_count": 1,
   "metadata": {},
   "outputs": [],
   "source": [
    "import numpy as np\n",
    "import pandas as pd\n",
    "import matplotlib.pyplot as plt"
   ]
  },
  {
   "cell_type": "code",
   "execution_count": 35,
   "metadata": {},
   "outputs": [
    {
     "name": "stdout",
     "output_type": "stream",
     "text": [
      "(42000, 785)\n"
     ]
    }
   ],
   "source": [
    "train = pd.read_csv('train.csv')\n",
    "test = pd.read_csv('test.csv')\n",
    "train = np.array(train)\n",
    "test = np.array(test)\n",
    "y_tr = train[:,0].T\n",
    "# y_t = test[:,0].T\n",
    "X_tr = (train[:,1:].T )/ 255.\n",
    "X_t = (test.T )/ 255.\n",
    "#test = X_t[0].T.reshape(784,1)\n",
    "print(train.shape)\n"
   ]
  },
  {
   "cell_type": "code",
   "execution_count": 3,
   "metadata": {},
   "outputs": [
    {
     "data": {
      "text/plain": [
       "(42000, 785)"
      ]
     },
     "execution_count": 3,
     "metadata": {},
     "output_type": "execute_result"
    }
   ],
   "source": [
    "train.shape"
   ]
  },
  {
   "cell_type": "code",
   "execution_count": 4,
   "metadata": {},
   "outputs": [],
   "source": [
    "def init_params(l2):\n",
    "    W1 = np.random.rand(l2,784) -0.5\n",
    "    W2 = np.random.rand(10,l2) - 0.5\n",
    "    b1 = np.zeros((256,1))\n",
    "    b2 = np.zeros((10,1))\n",
    "    return W1,b1,W2,b2\n",
    "\n",
    "def relu(z):\n",
    "    return np.maximum(0,z)\n",
    "\n",
    "def softmax(Z):\n",
    "    A = np.exp(Z) / sum(np.exp(Z))\n",
    "    return A\n",
    "\n",
    "def forward_prop(W1,b1,W2,b2,X):\n",
    "    Z1 = W1.dot(X) + b1\n",
    "    A1 = relu(Z1)\n",
    "    Z2 = W2.dot(Z1) + b2\n",
    "    A2 = softmax(Z2)\n",
    "    return Z1,A1,Z2,A2\n",
    "    \n",
    "def y_data(y):\n",
    "    up_y = np.zeros((10,y.size))\n",
    "    for i in range(y.size):\n",
    "        up_y[y[i]][i] = 1 \n",
    "    return up_y\n",
    "\n",
    "def d_relu(Z):\n",
    "    return Z>0\n",
    "\n",
    "def back_prop(Z1,A1,Z2,A2,W2,X,Y):\n",
    "    y= y_data(Y)\n",
    "    dz2 = A2 - y\n",
    "    dw2 = dz2.dot(A1.T)/Y.size\n",
    "    db2 = np.sum(dz2)/Y.size\n",
    "    dz1 = W2.T.dot(dz2)*d_relu(Z1)\n",
    "    dw1 = dz1.dot(X.T)/Y.size\n",
    "    db1 = np.sum(dz1)/Y.size\n",
    "    return dw1,db1,dw2,db2\n",
    "\n",
    "def update_params(w1,dw1,w2,dw2,b1,db1,b2,db2,a):\n",
    "    w1 = w1 - a*dw1\n",
    "    b1 = b1 - a*db1\n",
    "    w2 = w2 - a*dw2\n",
    "    b2 = b2 - a*db2\n",
    "    return w1,b1,w2,b2"
   ]
  },
  {
   "cell_type": "code",
   "execution_count": 6,
   "metadata": {},
   "outputs": [],
   "source": [
    "def pred(A2):\n",
    "    return np.argmax(A2,axis=0)\n",
    "\n",
    "def accuracy(predict,y):\n",
    "    return (np.sum(predict==y)/y.size)\n",
    "\n",
    "def grad_desc(X,Y,epoch,a):\n",
    "    w1,b1,w2,b2 = init_params(256)\n",
    "    for i in range(epoch):\n",
    "        z1,a1,z2,a2 = forward_prop(w1,b1,w2,b2,X)\n",
    "        dw1,db1,dw2,db2 = back_prop(z1,a1,z2,a2,w2,X,Y)\n",
    "        w1,b1,w2,b2 = update_params(w1,dw1,w2,dw2,b1,db1,b2,db2,a)\n",
    "        if i%50 ==0:\n",
    "            print(\"Iteration: \",i)\n",
    "            print(\"Accuracy: \", accuracy(pred(a2),Y))\n",
    "    return w1,b1,w2,b2\n"
   ]
  },
  {
   "cell_type": "code",
   "execution_count": 7,
   "metadata": {},
   "outputs": [
    {
     "name": "stdout",
     "output_type": "stream",
     "text": [
      "Iteration:  0\n",
      "Accuracy:  0.07547619047619047\n",
      "Iteration:  50\n",
      "Accuracy:  0.6727619047619048\n",
      "Iteration:  100\n",
      "Accuracy:  0.7540476190476191\n",
      "Iteration:  150\n",
      "Accuracy:  0.7854761904761904\n",
      "Iteration:  200\n",
      "Accuracy:  0.8054523809523809\n",
      "Iteration:  250\n",
      "Accuracy:  0.8183095238095238\n",
      "Iteration:  300\n",
      "Accuracy:  0.8292380952380952\n",
      "Iteration:  350\n",
      "Accuracy:  0.8365476190476191\n",
      "Iteration:  400\n",
      "Accuracy:  0.8437619047619047\n",
      "Iteration:  450\n",
      "Accuracy:  0.849452380952381\n",
      "Iteration:  500\n",
      "Accuracy:  0.8537142857142858\n",
      "Iteration:  550\n",
      "Accuracy:  0.8572380952380952\n",
      "Iteration:  600\n",
      "Accuracy:  0.8608333333333333\n",
      "Iteration:  650\n",
      "Accuracy:  0.8632857142857143\n",
      "Iteration:  700\n",
      "Accuracy:  0.8658571428571429\n",
      "Iteration:  750\n",
      "Accuracy:  0.8678809523809524\n",
      "Iteration:  800\n",
      "Accuracy:  0.8696428571428572\n",
      "Iteration:  850\n",
      "Accuracy:  0.8713095238095238\n",
      "Iteration:  900\n",
      "Accuracy:  0.8726666666666667\n",
      "Iteration:  950\n",
      "Accuracy:  0.8741666666666666\n",
      "Iteration:  1000\n",
      "Accuracy:  0.8758333333333334\n"
     ]
    }
   ],
   "source": [
    "w1,b1,w2,b2 = grad_desc(X_tr,y_tr,1001,0.05)"
   ]
  },
  {
   "cell_type": "code",
   "execution_count": 8,
   "metadata": {},
   "outputs": [],
   "source": [
    "def make_predictions(X, W1, b1, W2, b2):\n",
    "    _, _, _, A2 = forward_prop(W1, b1, W2, b2, X)\n",
    "    predictions = pred(A2)\n",
    "    return predictions\n",
    "\n",
    "def test_prediction(index, W1, b1, W2, b2,X,y):\n",
    "    c_img = X[:, index, None]\n",
    "    prediction = make_predictions(X[:, index, None], W1, b1, W2, b2)\n",
    "    label = y[index]\n",
    "    \n",
    "    print(\"Label: \", label)\n",
    "    \n",
    "    c_img = c_img.reshape((28,28))*255\n",
    "    plt.gray()\n",
    "    plt.imshow(c_img, interpolation='nearest')\n",
    "    plt.show()\n",
    "\n",
    "    print(\"Prediction: \", prediction)"
   ]
  },
  {
   "cell_type": "code",
   "execution_count": 24,
   "metadata": {},
   "outputs": [
    {
     "name": "stdout",
     "output_type": "stream",
     "text": [
      "Label:  2\n"
     ]
    },
    {
     "data": {
      "image/png": "[encoded data removed]",
      "text/plain": [
       "<Figure size 640x480 with 1 Axes>"
      ]
     },
     "metadata": {},
     "output_type": "display_data"
    },
    {
     "name": "stdout",
     "output_type": "stream",
     "text": [
      "Prediction:  [4]\n"
     ]
    }
   ],
   "source": [
    "test_prediction(np.random.randint(0,42000),w1,b1,w2,b2,X_tr,y_tr)"
   ]
  },
  {
   "cell_type": "code",
   "execution_count": 69,
   "metadata": {},
   "outputs": [
    {
     "name": "stdout",
     "output_type": "stream",
     "text": [
      "Label:  0.0\n"
     ]
    },
    {
     "data": {
      "image/png": "[encoded data removed]",
      "text/plain": [
       "<Figure size 640x480 with 1 Axes>"
      ]
     },
     "metadata": {},
     "output_type": "display_data"
    },
    {
     "name": "stdout",
     "output_type": "stream",
     "text": [
      "Prediction:  [8]\n"
     ]
    }
   ],
   "source": [
    "test_prediction(np.random.randint(0,28000),w1,b1,w2,b2,X_t,np.zeros(28000))"
   ]
  }
 ],
 "metadata": {
  "kernelspec": {
   "display_name": "Python 3",
   "language": "python",
   "name": "python3"
  },
  "language_info": {
   "codemirror_mode": {
    "name": "ipython",
    "version": 3
   },
   "file_extension": ".py",
   "mimetype": "text/x-python",
   "name": "python",
   "nbconvert_exporter": "python",
   "pygments_lexer": "ipython3",
   "version": "3.10.6"
  },
  "orig_nbformat": 4
 },
 "nbformat": 4,
 "nbformat_minor": 2
}
